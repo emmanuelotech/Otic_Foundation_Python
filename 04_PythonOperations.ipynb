{
  "nbformat": 4,
  "nbformat_minor": 0,
  "metadata": {
    "colab": {
      "provenance": [],
      "include_colab_link": true
    },
    "kernelspec": {
      "name": "python3",
      "display_name": "Python 3"
    },
    "language_info": {
      "name": "python"
    }
  },
  "cells": [
    {
      "cell_type": "markdown",
      "metadata": {
        "id": "view-in-github",
        "colab_type": "text"
      },
      "source": [
        "<a href=\"https://colab.research.google.com/github/emmanuelotech/Otic_Foundation_Python/blob/main/04_PythonOperations.ipynb\" target=\"_parent\"><img src=\"https://colab.research.google.com/assets/colab-badge.svg\" alt=\"Open In Colab\"/></a>"
      ]
    },
    {
      "cell_type": "markdown",
      "source": [
        "# Basic Operations in Python.\n",
        "\n",
        "⚒ Complete the exercises before going to next section."
      ],
      "metadata": {
        "id": "XYPp-wkuOWWz"
      }
    },
    {
      "cell_type": "markdown",
      "source": [
        "## **Arithmetic Operators**\n",
        "\n",
        "⚒ Play with numbers by changing numbers and running the cell."
      ],
      "metadata": {
        "id": "A360IrsWOnxZ"
      }
    },
    {
      "cell_type": "code",
      "execution_count": 1,
      "metadata": {
        "colab": {
          "base_uri": "https://localhost:8080/"
        },
        "id": "fJr5Vu07ONem",
        "outputId": "52fb1570-d9fc-41d9-a633-7291bb0f42d9"
      },
      "outputs": [
        {
          "output_type": "stream",
          "name": "stdout",
          "text": [
            "8\n"
          ]
        }
      ],
      "source": [
        "# Addition\n",
        "eight = 2+6\n",
        "\n",
        "print(eight)"
      ]
    },
    {
      "cell_type": "code",
      "source": [
        "# Subtraction\n",
        "\n",
        "two = 4-2\n",
        "\n",
        "print(two)"
      ],
      "metadata": {
        "colab": {
          "base_uri": "https://localhost:8080/"
        },
        "id": "yYypwWnFPE_M",
        "outputId": "1aac75c4-5c28-4bb0-a64b-f8b3a69ca5a0"
      },
      "execution_count": 2,
      "outputs": [
        {
          "output_type": "stream",
          "name": "stdout",
          "text": [
            "2\n"
          ]
        }
      ]
    },
    {
      "cell_type": "code",
      "source": [
        "# Multiplication\n",
        "\n",
        "ten = 10*1\n",
        "\n",
        "print(ten)"
      ],
      "metadata": {
        "colab": {
          "base_uri": "https://localhost:8080/"
        },
        "id": "GerU8dzwPNhC",
        "outputId": "c50d5f3b-eb23-4f65-c249-8007af558ff4"
      },
      "execution_count": 5,
      "outputs": [
        {
          "output_type": "stream",
          "name": "stdout",
          "text": [
            "10\n"
          ]
        }
      ]
    },
    {
      "cell_type": "code",
      "source": [
        "# Division (Quotient)\n",
        "\n",
        "four = 20/5\n",
        "\n",
        "print(four)"
      ],
      "metadata": {
        "colab": {
          "base_uri": "https://localhost:8080/"
        },
        "id": "X6D9IZstPvHs",
        "outputId": "8e8837da-11b3-43d6-c445-69101f621c61"
      },
      "execution_count": 6,
      "outputs": [
        {
          "output_type": "stream",
          "name": "stdout",
          "text": [
            "4.0\n"
          ]
        }
      ]
    },
    {
      "cell_type": "code",
      "source": [
        "# Remainder in Division\n",
        "\n",
        "five = 35%6\n",
        "# 17÷6= (12+5)÷6 =  2/5 [quotient/remainder]\n",
        "\n",
        "print(five)"
      ],
      "metadata": {
        "colab": {
          "base_uri": "https://localhost:8080/"
        },
        "id": "4NBB_LiwQElv",
        "outputId": "62588ddc-5827-4456-c6fa-877349e91590"
      },
      "execution_count": 8,
      "outputs": [
        {
          "output_type": "stream",
          "name": "stdout",
          "text": [
            "5\n"
          ]
        }
      ]
    },
    {
      "cell_type": "code",
      "source": [
        "# Exponents\n",
        "\n",
        "nine = (9**0.5)**2\n",
        "# 3^2 = 3×3=9\n",
        "\n",
        "print(nine)"
      ],
      "metadata": {
        "colab": {
          "base_uri": "https://localhost:8080/"
        },
        "id": "sdl_8M88RN2r",
        "outputId": "cc5563f4-13aa-4314-c5f6-e2b6bca7ee2c"
      },
      "execution_count": 10,
      "outputs": [
        {
          "output_type": "stream",
          "name": "stdout",
          "text": [
            "9.0\n"
          ]
        }
      ]
    },
    {
      "cell_type": "markdown",
      "source": [
        "### Exercise 01: Create a calculator which will take a number as input and returns it's square as output."
      ],
      "metadata": {
        "id": "xQhDY-1HWGhT"
      }
    },
    {
      "cell_type": "code",
      "source": [
        "\"\"\"\n",
        "Required: 1. UserInput as a number --> Int Data Type possibly\n",
        "          2. Compute it's square and assign it to a variable\n",
        "          3. Return the varible\n",
        "\n",
        "\"\"\"\n",
        "\n",
        "userInput = input(\"Please Enter Number: \")\n",
        "userInputSquared = int(userInput)**2\n",
        "\n",
        "print(userInputSquared)\n"
      ],
      "metadata": {
        "id": "tbO_7I94WkEx",
        "outputId": "898aba53-7ae3-49a0-e277-b174b6b2851c",
        "colab": {
          "base_uri": "https://localhost:8080/"
        }
      },
      "execution_count": 16,
      "outputs": [
        {
          "output_type": "stream",
          "name": "stdout",
          "text": [
            "Please Enter Number: 5\n",
            "25\n"
          ]
        }
      ]
    },
    {
      "cell_type": "markdown",
      "source": [
        "### Exercise 02: Create a calculator which will take two numbers(one value and one rate) as input and returns the calculated percentage value as output.\n",
        "\n",
        "For example if two numbers 1000 & 20 are given as input, it'll return 200 as output, because 20% of 1000 is 200."
      ],
      "metadata": {
        "id": "Ac9F2mM3yES_"
      }
    },
    {
      "cell_type": "code",
      "source": [
        "# Start Coding here..."
      ],
      "metadata": {
        "id": "pqdpx0dcyHKC"
      },
      "execution_count": null,
      "outputs": []
    },
    {
      "cell_type": "markdown",
      "source": [
        "\n",
        "\n",
        "---\n",
        "\n",
        "## Using Operators with Strings"
      ],
      "metadata": {
        "id": "IyGDfW68SneK"
      }
    },
    {
      "cell_type": "code",
      "source": [
        "#Concatenation (adding up)\n",
        "\n",
        "helloworld = \"hello\" + \" \" + \"world\"\n",
        "# \"hello world\"\n",
        "\n",
        "print(helloworld)"
      ],
      "metadata": {
        "colab": {
          "base_uri": "https://localhost:8080/"
        },
        "id": "1EQBGq8bS3Im",
        "outputId": "c6c3671a-05b7-4123-8a10-2c9f44e8730b"
      },
      "execution_count": null,
      "outputs": [
        {
          "output_type": "stream",
          "name": "stdout",
          "text": [
            "hello world\n"
          ]
        }
      ]
    },
    {
      "cell_type": "code",
      "source": [
        "# Repetition\n",
        "\n",
        "lotsofhellos = \"hello\\n\" * 10\n",
        "# \\n equates to new line.\n",
        "\n",
        "print(lotsofhellos)"
      ],
      "metadata": {
        "colab": {
          "base_uri": "https://localhost:8080/"
        },
        "id": "RjCeU_oRTgFj",
        "outputId": "755d590c-9040-4a76-d68d-f47605d3924f"
      },
      "execution_count": null,
      "outputs": [
        {
          "output_type": "stream",
          "name": "stdout",
          "text": [
            "hello\n",
            "hello\n",
            "hello\n",
            "hello\n",
            "hello\n",
            "hello\n",
            "hello\n",
            "hello\n",
            "hello\n",
            "hello\n",
            "\n"
          ]
        }
      ]
    },
    {
      "cell_type": "markdown",
      "source": [
        "\n",
        "\n",
        "---\n",
        "\n",
        "## Using Operators with Lists"
      ],
      "metadata": {
        "id": "-Di8L9U4US21"
      }
    },
    {
      "cell_type": "code",
      "source": [
        "# Joining list items together.\n",
        "\n",
        "even_numbers = [2,4,6,8]\n",
        "odd_numbers = [1,3,5,7]\n",
        "all_numbers = odd_numbers + even_numbers\n",
        "\n",
        "print(all_numbers)"
      ],
      "metadata": {
        "colab": {
          "base_uri": "https://localhost:8080/"
        },
        "id": "fI8zFIgpU7Co",
        "outputId": "91dbee5b-9e59-4bf5-d9d7-0b10547a45ef"
      },
      "execution_count": null,
      "outputs": [
        {
          "output_type": "stream",
          "name": "stdout",
          "text": [
            "[1, 3, 5, 7, 2, 4, 6, 8]\n"
          ]
        }
      ]
    },
    {
      "cell_type": "code",
      "source": [
        "# Repeatation\n",
        "\n",
        "print([1,2,3] * 3)"
      ],
      "metadata": {
        "colab": {
          "base_uri": "https://localhost:8080/"
        },
        "id": "KrsthAlTVd1i",
        "outputId": "1feb9edd-3838-4fe7-9f31-16d0169bcd53"
      },
      "execution_count": null,
      "outputs": [
        {
          "output_type": "stream",
          "name": "stdout",
          "text": [
            "[1, 2, 3, 1, 2, 3, 1, 2, 3]\n"
          ]
        }
      ]
    },
    {
      "cell_type": "markdown",
      "source": [
        "### Exercise 03: Create a todo app that'll take a task as input and print all the task that were added before.\n",
        "\n",
        "Hint:\n",
        "* Create a list with few tasks.\n",
        "* Ask for new tasks using **input** function.\n",
        "* Use **append** function to add new task to the list of todo. (In case you're unaware what append function is \"Just Google it!\")"
      ],
      "metadata": {
        "id": "NMIPAMijWrnE"
      }
    },
    {
      "cell_type": "code",
      "source": [
        "# Start Coding here..."
      ],
      "metadata": {
        "id": "ZqFpgGZsXYnj"
      },
      "execution_count": null,
      "outputs": []
    },
    {
      "cell_type": "markdown",
      "source": [
        "---\n",
        "## Boolean operators"
      ],
      "metadata": {
        "id": "C12VCNm8uy6K"
      }
    },
    {
      "cell_type": "code",
      "source": [
        "# Boolean Conditionals\n",
        "\n",
        "x = 2\n",
        "if x == 2:\n",
        "    print(\"x equals two!\")\n",
        "else:\n",
        "    print(\"x does not equal to two.\")"
      ],
      "metadata": {
        "id": "TBoeljWQ3N5E"
      },
      "execution_count": null,
      "outputs": []
    },
    {
      "cell_type": "markdown",
      "source": [
        "### Exercise 04: Create an calculator which will take two numbers and one operations such as plus(+), minus (-), into(×), by(÷), remainder(/*), power(^), percentage (%) as input and returns the calculated value as output.\n",
        "\n",
        "Hint: Use **elif** conditionals where more than two case is required."
      ],
      "metadata": {
        "id": "Zc1GS7FgzRP5"
      }
    },
    {
      "cell_type": "code",
      "source": [
        "## Code goes here..."
      ],
      "metadata": {
        "id": "aNjj7e_IzjIk"
      },
      "execution_count": null,
      "outputs": []
    },
    {
      "cell_type": "markdown",
      "source": [
        "## Loop Operators"
      ],
      "metadata": {
        "id": "H0MbRMTYCVpy"
      }
    },
    {
      "cell_type": "markdown",
      "source": [
        "### **For Loop**"
      ],
      "metadata": {
        "id": "PS9RqCXlCfK8"
      }
    },
    {
      "cell_type": "code",
      "source": [
        "## Print all the prime numbers upto 10 hardcoded.\n",
        "\n",
        "primes = [2, 3, 5, 7]\n",
        "for prime in primes:\n",
        "    print(prime)"
      ],
      "metadata": {
        "id": "xYpm4An8CrG6"
      },
      "execution_count": null,
      "outputs": []
    },
    {
      "cell_type": "code",
      "source": [
        "## Using range functions in a for loop\n",
        "\n",
        "for x in range(3, 6):\n",
        "    print(x) # Prints out 3,4,5"
      ],
      "metadata": {
        "id": "x_cyfbZrD112"
      },
      "execution_count": null,
      "outputs": []
    },
    {
      "cell_type": "markdown",
      "source": [
        "### **While Loop**"
      ],
      "metadata": {
        "id": "F7ZrWNpKCjlq"
      }
    },
    {
      "cell_type": "code",
      "source": [
        "count=0\n",
        "while(count<5):\n",
        "    print(f\"Count value is {count}\")\n",
        "    count +=1\n",
        "else:\n",
        "    print(f\"Count value reached {count}\")"
      ],
      "metadata": {
        "colab": {
          "base_uri": "https://localhost:8080/"
        },
        "id": "LB1Cs0z1Ff50",
        "outputId": "79725b84-2dd2-4286-a495-7ee40397b49a"
      },
      "execution_count": null,
      "outputs": [
        {
          "output_type": "stream",
          "name": "stdout",
          "text": [
            "Count value is 0\n",
            "Count value is 1\n",
            "Count value is 2\n",
            "Count value is 3\n",
            "Count value is 4\n",
            "Count value reached 5\n"
          ]
        }
      ]
    },
    {
      "cell_type": "markdown",
      "source": [
        "### Exercise 05: Print all the numbers from 0 to 100 which are divisible by 3 by using any loop operator."
      ],
      "metadata": {
        "id": "Yz5S3iI2Glfn"
      }
    },
    {
      "cell_type": "code",
      "source": [
        "## Start coding..."
      ],
      "metadata": {
        "id": "UNR4SoW_HIiV"
      },
      "execution_count": null,
      "outputs": []
    }
  ]
}